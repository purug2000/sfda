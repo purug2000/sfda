{
 "cells": [
  {
   "cell_type": "code",
   "execution_count": 1,
   "metadata": {},
   "outputs": [],
   "source": [
    "from evaluation import score_negation\n",
    "import os"
   ]
  },
  {
   "cell_type": "code",
   "execution_count": 26,
   "metadata": {},
   "outputs": [],
   "source": [
    "res = '../negation/practice_text/train_entropy_divisions/dev_top60.tsv'\n",
    "ref = '../practice_data/ref/negation/gold.tsv'"
   ]
  },
  {
   "cell_type": "code",
   "execution_count": 27,
   "metadata": {},
   "outputs": [],
   "source": [
    "matrix = {}\n",
    "score_negation(ref,res,matrix)"
   ]
  },
  {
   "cell_type": "code",
   "execution_count": 28,
   "metadata": {},
   "outputs": [
    {
     "name": "stdout",
     "output_type": "stream",
     "text": [
      "negation_f1:\t0.8286731062531775\n",
      "negation_precision:\t0.9565727699530516\n",
      "negation_recall:\t0.7309417040358744\n"
     ]
    }
   ],
   "source": [
    "#top 60\n",
    "for i in matrix:\n",
    "    print(F'{i}:\\t{matrix[i]}')"
   ]
  },
  {
   "cell_type": "code",
   "execution_count": 25,
   "metadata": {},
   "outputs": [
    {
     "name": "stdout",
     "output_type": "stream",
     "text": [
      "negation_f1:\t0.8463379607467687\n",
      "negation_precision:\t0.9075975359342916\n",
      "negation_recall:\t0.7928251121076233\n"
     ]
    }
   ],
   "source": [
    "#top 50\n",
    "for i in matrix:\n",
    "    print(F'{i}:\\t{matrix[i]}')"
   ]
  },
  {
   "cell_type": "code",
   "execution_count": 22,
   "metadata": {},
   "outputs": [
    {
     "name": "stdout",
     "output_type": "stream",
     "text": [
      "negation_f1:\t0.833011583011583\n",
      "negation_precision:\t0.9017763845350052\n",
      "negation_recall:\t0.7739910313901345\n"
     ]
    }
   ],
   "source": [
    "#top 40\n",
    "for i in matrix:\n",
    "    print(F'{i}:\\t{matrix[i]}')"
   ]
  },
  {
   "cell_type": "code",
   "execution_count": 16,
   "metadata": {},
   "outputs": [
    {
     "name": "stdout",
     "output_type": "stream",
     "text": [
      "negation_f1:\t0.8355041003376749\n",
      "negation_precision:\t0.9039665970772442\n",
      "negation_recall:\t0.7766816143497758\n"
     ]
    }
   ],
   "source": [
    "#top 30\n",
    "for i in matrix:\n",
    "    print(F'{i}:\\t{matrix[i]}')"
   ]
  },
  {
   "cell_type": "code",
   "execution_count": 19,
   "metadata": {},
   "outputs": [
    {
     "name": "stdout",
     "output_type": "stream",
     "text": [
      "negation_f1:\t0.8396001903855307\n",
      "negation_precision:\t0.8945233265720081\n",
      "negation_recall:\t0.7910313901345292\n"
     ]
    }
   ],
   "source": [
    "#top 20\n",
    "for i in matrix:\n",
    "    print(F'{i}:\\t{matrix[i]}')"
   ]
  },
  {
   "cell_type": "code",
   "execution_count": 13,
   "metadata": {},
   "outputs": [
    {
     "name": "stdout",
     "output_type": "stream",
     "text": [
      "negation_f1:\t0.8396001903855307\n",
      "negation_precision:\t0.8945233265720081\n",
      "negation_recall:\t0.7910313901345292\n"
     ]
    }
   ],
   "source": [
    "#top10\n",
    "for i in matrix:\n",
    "    print(F'{i}:\\t{matrix[i]}')"
   ]
  },
  {
   "cell_type": "code",
   "execution_count": 11,
   "metadata": {},
   "outputs": [
    {
     "name": "stdout",
     "output_type": "stream",
     "text": [
      "negation_f1:\t0.8340192043895748\n",
      "negation_precision:\t0.8507462686567164\n",
      "negation_recall:\t0.8179372197309417\n"
     ]
    }
   ],
   "source": [
    "#Baseline\n",
    "for i in matrix:\n",
    "    print(F'{i}:\\t{matrix[i]}')"
   ]
  },
  {
   "cell_type": "code",
   "execution_count": null,
   "metadata": {},
   "outputs": [],
   "source": []
  }
 ],
 "metadata": {
  "kernelspec": {
   "display_name": "Python 3",
   "language": "python",
   "name": "python3"
  },
  "language_info": {
   "codemirror_mode": {
    "name": "ipython",
    "version": 3
   },
   "file_extension": ".py",
   "mimetype": "text/x-python",
   "name": "python",
   "nbconvert_exporter": "python",
   "pygments_lexer": "ipython3",
   "version": "3.8.5"
  }
 },
 "nbformat": 4,
 "nbformat_minor": 4
}
